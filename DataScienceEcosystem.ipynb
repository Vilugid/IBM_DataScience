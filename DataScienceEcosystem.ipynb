{
 "cells": [
  {
   "cell_type": "markdown",
   "id": "5efd03b5-1374-4109-ab3b-51baa4e47aa6",
   "metadata": {},
   "source": [
    "# Data Science Tools and Ecosystem"
   ]
  },
  {
   "cell_type": "markdown",
   "id": "0e5c44a7-a687-4d5c-99e2-f64489644a6c",
   "metadata": {},
   "source": [
    "**Objectives:**\n",
    "\n",
    "1. Create a Jupyter Notebook with markdown and code cells\n",
    "2. List examples of languages, libraries and tools used in Data Science\n",
    "3. Share your Jupyter Notebook publicly on GitHub\n",
    "4. Evaluate notebooks submitted by your peers using the provided rubric\n",
    "5. Demonstrate proficiency in Data Science toolkit knowledge"
   ]
  },
  {
   "cell_type": "markdown",
   "id": "1fc48754-4a9b-4273-a8c5-1eee4a2c33dc",
   "metadata": {},
   "source": [
    "In this notebook, we will summarize our theoretical and practical learnings on Data Science Tools and Ecosystem."
   ]
  },
  {
   "cell_type": "markdown",
   "id": "c2495618-18f4-454d-8430-8b481a8caf77",
   "metadata": {},
   "source": [
    "Some of the popular languages that Data Scientists use are:\n",
    "\n",
    "1. Python\n",
    "2. R\n",
    "3. SQL\n",
    "4. Scala\n",
    "5. Java\n",
    "6. C++\n",
    "7. Julia"
   ]
  },
  {
   "cell_type": "markdown",
   "id": "022f0c4e-6090-44b2-bb5f-5701d083e08e",
   "metadata": {},
   "source": [
    "Some of the commonly used libraries used by Data Scientists include:\n",
    "\n",
    "1. Scientific computing libraries (i.e. Pandas, Numpy)\n",
    "2. Visualization libraries (i.e Matplotlib, Seaborn)\n",
    "3. Machine Learning and Deep Learning (i.e. Scikit-Learn, Keras, TensorFlow, PyTorch)\n",
    "4. ApacheSpark\n",
    "5. Scala libraries\n",
    "6. R Libraries"
   ]
  },
  {
   "cell_type": "markdown",
   "id": "b9161543-a619-40f1-81cb-06b0817a7ef3",
   "metadata": {},
   "source": [
    "| Data Science Tools                        |                                                |\n",
    "|:------------------------------------------|:-----------------------------------------------|\n",
    "| Data Management                           | i.e. MySQL, PostgreSQL, cassandra              |\n",
    "| Operating System                          | i.e. Jupyter, RStudio, Microsoft Visual Studio |\n",
    "| Data Integration and Transformation Tools | i.e. Spark SQL, Kubeflow, Node-RED             |"
   ]
  },
  {
   "cell_type": "markdown",
   "id": "080e2a36-b3aa-4535-acdf-fdb7a6afab5b",
   "metadata": {},
   "source": [
    "Below are a few examples of evaluating arithmetic expressions in Python"
   ]
  },
  {
   "cell_type": "code",
   "execution_count": 4,
   "id": "01b73a8e-e64b-473d-b670-9a0b199ef22f",
   "metadata": {},
   "outputs": [
    {
     "data": {
      "text/plain": [
       "17"
      ]
     },
     "execution_count": 4,
     "metadata": {},
     "output_type": "execute_result"
    }
   ],
   "source": [
    "# This a simple arithmetic expression to mutiply then add integers\n",
    "(3*4)+5"
   ]
  },
  {
   "cell_type": "code",
   "execution_count": 5,
   "id": "03c40511-26cf-4cd7-af8f-40997c2682f2",
   "metadata": {},
   "outputs": [
    {
     "data": {
      "text/plain": [
       "3.3333333333333335"
      ]
     },
     "execution_count": 5,
     "metadata": {},
     "output_type": "execute_result"
    }
   ],
   "source": [
    "#  This will convert 200 minutes to hours by dividing by 60\n",
    "200/60"
   ]
  },
  {
   "cell_type": "markdown",
   "id": "3f54cfc6-f4e8-4d7e-a663-10f9f418b11b",
   "metadata": {},
   "source": [
    "## Author\n",
    "Mark Villanueva"
   ]
  }
 ],
 "metadata": {
  "kernelspec": {
   "display_name": "Python 3 (ipykernel)",
   "language": "python",
   "name": "python3"
  },
  "language_info": {
   "codemirror_mode": {
    "name": "ipython",
    "version": 3
   },
   "file_extension": ".py",
   "mimetype": "text/x-python",
   "name": "python",
   "nbconvert_exporter": "python",
   "pygments_lexer": "ipython3",
   "version": "3.12.5"
  }
 },
 "nbformat": 4,
 "nbformat_minor": 5
}
